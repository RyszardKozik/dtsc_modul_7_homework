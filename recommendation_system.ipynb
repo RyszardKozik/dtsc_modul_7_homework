{
 "cells": [
  {
   "cell_type": "code",
   "execution_count": 1,
   "metadata": {},
   "outputs": [
    {
     "ename": "ModuleNotFoundError",
     "evalue": "No module named 'surprise'",
     "output_type": "error",
     "traceback": [
      "\u001b[1;31m---------------------------------------------------------------------------\u001b[0m",
      "\u001b[1;31mModuleNotFoundError\u001b[0m                       Traceback (most recent call last)",
      "Cell \u001b[1;32mIn[1], line 3\u001b[0m\n\u001b[0;32m      1\u001b[0m \u001b[38;5;28;01mimport\u001b[39;00m \u001b[38;5;21;01mnumpy\u001b[39;00m \u001b[38;5;28;01mas\u001b[39;00m \u001b[38;5;21;01mnp\u001b[39;00m\n\u001b[0;32m      2\u001b[0m \u001b[38;5;28;01mimport\u001b[39;00m \u001b[38;5;21;01mpandas\u001b[39;00m \u001b[38;5;28;01mas\u001b[39;00m \u001b[38;5;21;01mpd\u001b[39;00m\n\u001b[1;32m----> 3\u001b[0m \u001b[38;5;28;01mfrom\u001b[39;00m \u001b[38;5;21;01msurprise\u001b[39;00m \u001b[38;5;28;01mimport\u001b[39;00m Dataset, SVD, SVDpp, NMF\n\u001b[0;32m      4\u001b[0m \u001b[38;5;28;01mfrom\u001b[39;00m \u001b[38;5;21;01msurprise\u001b[39;00m\u001b[38;5;21;01m.\u001b[39;00m\u001b[38;5;21;01mmodel_selection\u001b[39;00m \u001b[38;5;28;01mimport\u001b[39;00m cross_validate, GridSearchCV\n\u001b[0;32m      6\u001b[0m \u001b[38;5;66;03m# Load the MovieLens 100k dataset\u001b[39;00m\n",
      "\u001b[1;31mModuleNotFoundError\u001b[0m: No module named 'surprise'"
     ]
    }
   ],
   "source": [
    "import numpy as np\n",
    "import pandas as pd\n",
    "from surprise import Dataset, SVD, SVDpp, NMF\n",
    "from surprise.model_selection import cross_validate, GridSearchCV\n",
    "\n",
    "# Load the MovieLens 100k dataset\n",
    "data = Dataset.load_builtin('ml-100k')\n",
    "\n",
    "# Check the dataset format\n",
    "df = pd.DataFrame(data.raw_ratings, columns=['user', 'item', 'rating', 'timestamp'])\n",
    "print(df.head())\n",
    "\n",
    "# Initialize the SVD algorithm\n",
    "svd = SVD()\n",
    "\n",
    "# Evaluate SVD performance using cross-validation\n",
    "svd_cv_results = cross_validate(svd, data, measures=['RMSE', 'MAE'], cv=5, verbose=True)\n",
    "\n",
    "# Define parameter grid for SVD\n",
    "param_grid = {\n",
    "    'n_factors': [50, 100, 150],\n",
    "    'n_epochs': [20, 30],\n",
    "    'lr_all': [0.002, 0.005],\n",
    "    'reg_all': [0.02, 0.1]\n",
    "}\n",
    "\n",
    "# Perform GridSearchCV to find the best parameters\n",
    "gs = GridSearchCV(SVD, param_grid, measures=['rmse', 'mae'], cv=3)\n",
    "gs.fit(data)\n",
    "\n",
    "# Display the best RMSE score\n",
    "print(\"Best RMSE score:\", gs.best_score['rmse'])\n",
    "\n",
    "# Display the best parameters\n",
    "print(\"Best parameters:\", gs.best_params['rmse'])\n",
    "\n",
    "# Evaluate SVD++ algorithm\n",
    "svdpp = SVDpp()\n",
    "svdpp_results = cross_validate(svdpp, data, measures=['RMSE', 'MAE'], cv=5, verbose=True)\n",
    "\n",
    "# Evaluate NMF algorithm\n",
    "nmf = NMF()\n",
    "nmf_results = cross_validate(nmf, data, measures=['RMSE', 'MAE'], cv=5, verbose=True)\n",
    "\n",
    "# Example: Custom collaborative filtering function\n",
    "def collaborative_filtering(X, y, learning_rate=0.01, iterations=1000):\n",
    "    # Initialization of parameters\n",
    "    m, n = X.shape\n",
    "    theta = np.random.randn(n)\n",
    "    \n",
    "    for i in range(iterations):\n",
    "        # Hypothesis\n",
    "        prediction = np.dot(X, theta)\n",
    "        # Loss function\n",
    "        cost = (1 / (2 * m)) * np.sum((prediction - y) ** 2)\n",
    "        # Gradient descent\n",
    "        gradient = (1 / m) * np.dot(X.T, (prediction - y))\n",
    "        theta = theta - learning_rate * gradient\n",
    "        \n",
    "        if i % 100 == 0:\n",
    "            print(f\"Iteration {i}: Cost = {cost}\")\n",
    "    \n",
    "    return theta\n",
    "\n",
    "\n"
   ]
  }
 ],
 "metadata": {
  "kernelspec": {
   "display_name": ".venv",
   "language": "python",
   "name": "python3"
  },
  "language_info": {
   "codemirror_mode": {
    "name": "ipython",
    "version": 3
   },
   "file_extension": ".py",
   "mimetype": "text/x-python",
   "name": "python",
   "nbconvert_exporter": "python",
   "pygments_lexer": "ipython3",
   "version": "3.11.7"
  }
 },
 "nbformat": 4,
 "nbformat_minor": 2
}
